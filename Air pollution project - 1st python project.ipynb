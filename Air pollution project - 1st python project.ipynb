{
 "cells": [
  {
   "cell_type": "code",
   "execution_count": 1,
   "id": "01d3cd32",
   "metadata": {
    "scrolled": true
   },
   "outputs": [],
   "source": [
    "import pandas as pd"
   ]
  },
  {
   "cell_type": "code",
   "execution_count": 2,
   "id": "0cf28441",
   "metadata": {},
   "outputs": [
    {
     "name": "stdout",
     "output_type": "stream",
     "text": [
      "Defaulting to user installation because normal site-packages is not writeable\n",
      "Requirement already satisfied: openpyxl in c:\\programdata\\anaconda3\\lib\\site-packages (3.0.10)\n",
      "Requirement already satisfied: et_xmlfile in c:\\programdata\\anaconda3\\lib\\site-packages (from openpyxl) (1.1.0)\n",
      "Note: you may need to restart the kernel to use updated packages.\n"
     ]
    }
   ],
   "source": [
    "pip install openpyxl"
   ]
  },
  {
   "cell_type": "code",
   "execution_count": 3,
   "id": "2d2d0e71",
   "metadata": {},
   "outputs": [
    {
     "name": "stdout",
     "output_type": "stream",
     "text": [
      "  stn_code       sampling_date           state   location agency  \\\n",
      "0      150  February - M021990  Andhra Pradesh  Hyderabad    NaN   \n",
      "1      151  February - M021990  Andhra Pradesh  Hyderabad    NaN   \n",
      "2      152  February - M021990  Andhra Pradesh  Hyderabad    NaN   \n",
      "3      150     March - M031990  Andhra Pradesh  Hyderabad    NaN   \n",
      "4      151     March - M031990  Andhra Pradesh  Hyderabad    NaN   \n",
      "\n",
      "                                 type  so2   no2  rspm  spm  \\\n",
      "0  Residential, Rural and other Areas  4.8  17.4   NaN  NaN   \n",
      "1                     Industrial Area  3.1   7.0   NaN  NaN   \n",
      "2  Residential, Rural and other Areas  6.2  28.5   NaN  NaN   \n",
      "3  Residential, Rural and other Areas  6.3  14.7   NaN  NaN   \n",
      "4                     Industrial Area  4.7   7.5   NaN  NaN   \n",
      "\n",
      "  location_monitoring_station  pm2_5        date  \n",
      "0                         NaN    NaN  1990-02-01  \n",
      "1                         NaN    NaN  1990-02-01  \n",
      "2                         NaN    NaN  1990-02-01  \n",
      "3                         NaN    NaN  1990-03-01  \n",
      "4                         NaN    NaN  1990-03-01  \n"
     ]
    }
   ],
   "source": [
    "df = pd.read_csv(\"data.csv\", encoding = \"ISO-8859-1\", low_memory=False)\n",
    "print(df.head())"
   ]
  },
  {
   "cell_type": "code",
   "execution_count": 4,
   "id": "47931c2d",
   "metadata": {},
   "outputs": [
    {
     "data": {
      "text/plain": [
       "array(['Andhra Pradesh', 'Arunachal Pradesh', 'Assam', 'Bihar',\n",
       "       'Chandigarh', 'Chhattisgarh', 'Dadra & Nagar Haveli',\n",
       "       'Daman & Diu', 'Delhi', 'Goa', 'Gujarat', 'Haryana',\n",
       "       'Himachal Pradesh', 'Jammu & Kashmir', 'Jharkhand', 'Karnataka',\n",
       "       'Kerala', 'Madhya Pradesh', 'Maharashtra', 'Manipur', 'Meghalaya',\n",
       "       'Mizoram', 'Nagaland', 'Odisha', 'Puducherry', 'Punjab',\n",
       "       'Rajasthan', 'Sikkim', 'Tamil Nadu', 'Telangana', 'Uttar Pradesh',\n",
       "       'Uttarakhand', 'Uttaranchal', 'West Bengal',\n",
       "       'andaman-and-nicobar-islands', 'Lakshadweep', 'Tripura'],\n",
       "      dtype=object)"
      ]
     },
     "execution_count": 4,
     "metadata": {},
     "output_type": "execute_result"
    }
   ],
   "source": [
    "df.stn_code.unique()\n",
    "df.state.unique()"
   ]
  },
  {
   "cell_type": "code",
   "execution_count": 5,
   "id": "b53da4a7",
   "metadata": {},
   "outputs": [
    {
     "data": {
      "text/plain": [
       "37"
      ]
     },
     "execution_count": 5,
     "metadata": {},
     "output_type": "execute_result"
    }
   ],
   "source": [
    "df.state.unique().size"
   ]
  },
  {
   "cell_type": "code",
   "execution_count": 6,
   "id": "e5958fc8",
   "metadata": {},
   "outputs": [
    {
     "name": "stdout",
     "output_type": "stream",
     "text": [
      "7.28484482691484\n"
     ]
    }
   ],
   "source": [
    "mean_so2_andhra = df.loc[df['state']=='Andhra Pradesh', 'so2'].mean()\n",
    "print(mean_so2_andhra)"
   ]
  },
  {
   "cell_type": "code",
   "execution_count": 6,
   "id": "16942d7a",
   "metadata": {},
   "outputs": [
    {
     "name": "stdout",
     "output_type": "stream",
     "text": [
      "3.1791044776119404\n"
     ]
    }
   ],
   "source": [
    "mean_so2_arunachal = df.loc[df['state']=='Arunachal Pradesh', 'so2'].mean()\n",
    "print(mean_so2_arunachal)"
   ]
  },
  {
   "cell_type": "code",
   "execution_count": 7,
   "id": "a492d243",
   "metadata": {},
   "outputs": [
    {
     "name": "stdout",
     "output_type": "stream",
     "text": [
      "6.723262949865003\n"
     ]
    }
   ],
   "source": [
    "mean_so2_assam = df.loc[df['state']=='Assam', 'so2'].mean()\n",
    "print(mean_so2_assam)"
   ]
  },
  {
   "cell_type": "code",
   "execution_count": 8,
   "id": "855dde92",
   "metadata": {},
   "outputs": [
    {
     "name": "stdout",
     "output_type": "stream",
     "text": [
      "19.381476257639868\n"
     ]
    }
   ],
   "source": [
    "mean_so2_bihar = df.loc[df['state']=='Bihar', 'so2'].mean()\n",
    "print(mean_so2_bihar)"
   ]
  },
  {
   "cell_type": "code",
   "execution_count": 9,
   "id": "e377a9a5",
   "metadata": {},
   "outputs": [
    {
     "name": "stdout",
     "output_type": "stream",
     "text": [
      "2.6769857433808557\n"
     ]
    }
   ],
   "source": [
    "mean_so2_chandigarh = df.loc[df['state']=='Chandigarh', 'so2'].mean()\n",
    "print(mean_so2_chandigarh)"
   ]
  },
  {
   "cell_type": "code",
   "execution_count": 10,
   "id": "31828b7e",
   "metadata": {},
   "outputs": [
    {
     "name": "stdout",
     "output_type": "stream",
     "text": [
      "nan\n"
     ]
    }
   ],
   "source": [
    "mean_so2_chattisgarh = df.loc[df['state']=='Chattisgarh', 'so2'].mean()\n",
    "print(mean_so2_chattisgarh)"
   ]
  },
  {
   "cell_type": "code",
   "execution_count": 11,
   "id": "9504cda4",
   "metadata": {},
   "outputs": [
    {
     "name": "stdout",
     "output_type": "stream",
     "text": [
      "Series([], Name: so2, dtype: float64)\n"
     ]
    }
   ],
   "source": [
    "so2_chattisgarh = df.loc[df['state']==\"Chattisgarh\", 'so2']\n",
    "print(so2_chattisgarh) #this shows chattisgarh has no entry on any columns"
   ]
  },
  {
   "cell_type": "code",
   "execution_count": 12,
   "id": "63a46c10",
   "metadata": {},
   "outputs": [
    {
     "name": "stdout",
     "output_type": "stream",
     "text": [
      "8.939586645469006\n"
     ]
    }
   ],
   "source": [
    "mean_so2_dadra = df.loc[df['state']=='Dadra & Nagar Haveli', 'so2'].mean()\n",
    "print(mean_so2_dadra)"
   ]
  },
  {
   "cell_type": "code",
   "execution_count": 13,
   "id": "0ef3424f",
   "metadata": {},
   "outputs": [
    {
     "name": "stdout",
     "output_type": "stream",
     "text": [
      "8.192957746478882\n"
     ]
    }
   ],
   "source": [
    "mean_so2_daman = df.loc[df['state']=='Daman & Diu', 'so2'].mean()\n",
    "print(mean_so2_daman)"
   ]
  },
  {
   "cell_type": "code",
   "execution_count": 14,
   "id": "12356262",
   "metadata": {},
   "outputs": [
    {
     "name": "stdout",
     "output_type": "stream",
     "text": [
      "8.737272727272714\n"
     ]
    }
   ],
   "source": [
    "mean_so2_delhi = df.loc[df['state']=='Delhi', 'so2'].mean()\n",
    "print(mean_so2_delhi)"
   ]
  },
  {
   "cell_type": "code",
   "execution_count": 15,
   "id": "9c24d7f4",
   "metadata": {},
   "outputs": [
    {
     "name": "stdout",
     "output_type": "stream",
     "text": [
      "6.827912857420736\n"
     ]
    }
   ],
   "source": [
    "mean_so2_goa = df.loc[df['state']=='Goa', 'so2'].mean()\n",
    "print(mean_so2_goa)"
   ]
  },
  {
   "cell_type": "code",
   "execution_count": 16,
   "id": "588ebebc",
   "metadata": {},
   "outputs": [
    {
     "name": "stdout",
     "output_type": "stream",
     "text": [
      "16.65634266251567\n"
     ]
    }
   ],
   "source": [
    "mean_so2_gujarat = df.loc[df['state']=='Gujarat', 'so2'].mean()\n",
    "print(mean_so2_gujarat)"
   ]
  },
  {
   "cell_type": "code",
   "execution_count": 17,
   "id": "f07f2527",
   "metadata": {},
   "outputs": [
    {
     "name": "stdout",
     "output_type": "stream",
     "text": [
      "14.064956992672819\n"
     ]
    }
   ],
   "source": [
    "mean_so2_haryana = df.loc[df['state']=='Haryana', 'so2'].mean()\n",
    "print(mean_so2_haryana)"
   ]
  },
  {
   "cell_type": "code",
   "execution_count": 18,
   "id": "dcef7112",
   "metadata": {},
   "outputs": [
    {
     "name": "stdout",
     "output_type": "stream",
     "text": [
      "2.6670130577152342\n"
     ]
    }
   ],
   "source": [
    "mean_so2_himachal = df.loc[df['state']=='Himachal Pradesh', 'so2'].mean()\n",
    "print(mean_so2_himachal)"
   ]
  },
  {
   "cell_type": "code",
   "execution_count": 19,
   "id": "3b2584d2",
   "metadata": {},
   "outputs": [
    {
     "name": "stdout",
     "output_type": "stream",
     "text": [
      "7.180520504731861\n"
     ]
    }
   ],
   "source": [
    "mean_so2_jk = df.loc[df['state']=='Jammu & Kashmir', 'so2'].mean()\n",
    "print(mean_so2_jk)"
   ]
  },
  {
   "cell_type": "code",
   "execution_count": 20,
   "id": "e3cfcf0c",
   "metadata": {},
   "outputs": [
    {
     "name": "stdout",
     "output_type": "stream",
     "text": [
      "23.48579350426838\n"
     ]
    }
   ],
   "source": [
    "mean_so2_jharkhand = df.loc[df['state']=='Jharkhand', 'so2'].mean()\n",
    "print(mean_so2_jharkhand)"
   ]
  },
  {
   "cell_type": "code",
   "execution_count": 21,
   "id": "5d9a974f",
   "metadata": {},
   "outputs": [
    {
     "name": "stdout",
     "output_type": "stream",
     "text": [
      "10.223098790655666\n"
     ]
    }
   ],
   "source": [
    "mean_so2_karnataka = df.loc[df['state']=='Karnataka', 'so2'].mean()\n",
    "print(mean_so2_karnataka)"
   ]
  },
  {
   "cell_type": "code",
   "execution_count": 22,
   "id": "244dd441",
   "metadata": {},
   "outputs": [
    {
     "name": "stdout",
     "output_type": "stream",
     "text": [
      "5.3223500342355585\n"
     ]
    }
   ],
   "source": [
    "mean_so2_kerala = df.loc[df['state']=='Kerala', 'so2'].mean()\n",
    "print(mean_so2_kerala)"
   ]
  },
  {
   "cell_type": "code",
   "execution_count": 23,
   "id": "00bb3574",
   "metadata": {},
   "outputs": [
    {
     "name": "stdout",
     "output_type": "stream",
     "text": [
      "11.587409816093217\n"
     ]
    }
   ],
   "source": [
    "mean_so2_madhya = df.loc[df['state']=='Madhya Pradesh', 'so2'].mean()\n",
    "print(mean_so2_madhya)"
   ]
  },
  {
   "cell_type": "code",
   "execution_count": 24,
   "id": "23881eaa",
   "metadata": {},
   "outputs": [
    {
     "name": "stdout",
     "output_type": "stream",
     "text": [
      "17.366863004812807\n"
     ]
    }
   ],
   "source": [
    "mean_so2_maha = df.loc[df['state']=='Maharashtra', 'so2'].mean()\n",
    "print(mean_so2_maha)"
   ]
  },
  {
   "cell_type": "code",
   "execution_count": 25,
   "id": "2e9c6aa1",
   "metadata": {},
   "outputs": [
    {
     "name": "stdout",
     "output_type": "stream",
     "text": [
      "3.9000000000000004\n"
     ]
    }
   ],
   "source": [
    "mean_so2_manipur = df.loc[df['state']=='Manipur', 'so2'].mean()\n",
    "print(mean_so2_manipur)"
   ]
  },
  {
   "cell_type": "code",
   "execution_count": 26,
   "id": "79dca077",
   "metadata": {},
   "outputs": [
    {
     "name": "stdout",
     "output_type": "stream",
     "text": [
      "8.955907867160935\n"
     ]
    }
   ],
   "source": [
    "mean_so2_megh = df.loc[df['state']=='Meghalaya', 'so2'].mean()\n",
    "print(mean_so2_megh)"
   ]
  },
  {
   "cell_type": "code",
   "execution_count": 27,
   "id": "f49e6474",
   "metadata": {},
   "outputs": [
    {
     "name": "stdout",
     "output_type": "stream",
     "text": [
      "2.0850091848447763\n"
     ]
    }
   ],
   "source": [
    "mean_so2_mizo = df.loc[df['state']=='Mizoram', 'so2'].mean()\n",
    "print(mean_so2_mizo)"
   ]
  },
  {
   "cell_type": "code",
   "execution_count": 28,
   "id": "e6b2233f",
   "metadata": {},
   "outputs": [
    {
     "name": "stdout",
     "output_type": "stream",
     "text": [
      "2.0597361809045225\n"
     ]
    }
   ],
   "source": [
    "mean_so2_nagaland = df.loc[df['state']=='Nagaland', 'so2'].mean()\n",
    "print(mean_so2_nagaland)"
   ]
  },
  {
   "cell_type": "code",
   "execution_count": 29,
   "id": "386123ad",
   "metadata": {},
   "outputs": [
    {
     "name": "stdout",
     "output_type": "stream",
     "text": [
      "5.275873978680558\n"
     ]
    }
   ],
   "source": [
    "mean_so2_odisha = df.loc[df['state']=='Odisha', 'so2'].mean()\n",
    "print(mean_so2_odisha)"
   ]
  },
  {
   "cell_type": "code",
   "execution_count": 30,
   "id": "602e694d",
   "metadata": {},
   "outputs": [
    {
     "name": "stdout",
     "output_type": "stream",
     "text": [
      "11.970638742000576\n"
     ]
    }
   ],
   "source": [
    "mean_so2_puducherry = df.loc[df['state']=='Puducherry', 'so2'].mean()\n",
    "print(mean_so2_puducherry)"
   ]
  },
  {
   "cell_type": "code",
   "execution_count": 31,
   "id": "54477b20",
   "metadata": {},
   "outputs": [
    {
     "name": "stdout",
     "output_type": "stream",
     "text": [
      "10.628598138438416\n"
     ]
    }
   ],
   "source": [
    "mean_so2_punjab = df.loc[df['state']=='Punjab', 'so2'].mean()\n",
    "print(mean_so2_punjab)"
   ]
  },
  {
   "cell_type": "code",
   "execution_count": 32,
   "id": "80067595",
   "metadata": {},
   "outputs": [
    {
     "name": "stdout",
     "output_type": "stream",
     "text": [
      "7.665725055635958\n"
     ]
    }
   ],
   "source": [
    "mean_so2_rajasthan = df.loc[df['state']=='Rajasthan', 'so2'].mean()\n",
    "print(mean_so2_rajasthan)"
   ]
  },
  {
   "cell_type": "code",
   "execution_count": 33,
   "id": "d8d3eb2a",
   "metadata": {},
   "outputs": [
    {
     "name": "stdout",
     "output_type": "stream",
     "text": [
      "19.8\n"
     ]
    }
   ],
   "source": [
    "mean_so2_sikkim = df.loc[df['state']=='Sikkim', 'so2'].mean()\n",
    "print(mean_so2_sikkim)"
   ]
  },
  {
   "cell_type": "code",
   "execution_count": 34,
   "id": "f70d9985",
   "metadata": {},
   "outputs": [
    {
     "name": "stdout",
     "output_type": "stream",
     "text": [
      "11.315134172278633\n"
     ]
    }
   ],
   "source": [
    "mean_so2_tamil = df.loc[df['state']=='Tamil Nadu', 'so2'].mean()\n",
    "print(mean_so2_tamil)"
   ]
  },
  {
   "cell_type": "code",
   "execution_count": 35,
   "id": "956d70e2",
   "metadata": {},
   "outputs": [
    {
     "name": "stdout",
     "output_type": "stream",
     "text": [
      "nan\n"
     ]
    }
   ],
   "source": [
    "mean_so2_telengana = df.loc[df['state']=='Telengana', 'so2'].mean()\n",
    "print(mean_so2_telengana)"
   ]
  },
  {
   "cell_type": "code",
   "execution_count": 36,
   "id": "d429c268",
   "metadata": {},
   "outputs": [
    {
     "name": "stdout",
     "output_type": "stream",
     "text": [
      "12.52849986762399\n"
     ]
    }
   ],
   "source": [
    "mean_so2_uttar = df.loc[df['state']=='Uttar Pradesh', 'so2'].mean()\n",
    "print(mean_so2_uttar)"
   ]
  },
  {
   "cell_type": "code",
   "execution_count": 37,
   "id": "e450cb2d",
   "metadata": {},
   "outputs": [
    {
     "name": "stdout",
     "output_type": "stream",
     "text": [
      "24.372957181088314\n"
     ]
    }
   ],
   "source": [
    "mean_so2_uttarakhand = df.loc[df['state']=='Uttarakhand', 'so2'].mean()\n",
    "print(mean_so2_uttarakhand)"
   ]
  },
  {
   "cell_type": "code",
   "execution_count": 38,
   "id": "decda080",
   "metadata": {},
   "outputs": [
    {
     "name": "stdout",
     "output_type": "stream",
     "text": [
      "24.69773584905661\n"
     ]
    }
   ],
   "source": [
    "mean_so2_uttaranchal = df.loc[df['state']=='Uttaranchal', 'so2'].mean()\n",
    "print(mean_so2_uttaranchal)"
   ]
  },
  {
   "cell_type": "code",
   "execution_count": 39,
   "id": "e33804ef",
   "metadata": {},
   "outputs": [
    {
     "name": "stdout",
     "output_type": "stream",
     "text": [
      "12.608765600075088\n"
     ]
    }
   ],
   "source": [
    "mean_so2_wbengal = df.loc[df['state']=='West Bengal', 'so2'].mean()\n",
    "print(mean_so2_wbengal)"
   ]
  },
  {
   "cell_type": "code",
   "execution_count": 40,
   "id": "d2fba3ca",
   "metadata": {},
   "outputs": [
    {
     "name": "stdout",
     "output_type": "stream",
     "text": [
      "nan\n"
     ]
    }
   ],
   "source": [
    "mean_so2_andaman = df.loc[df['state']=='andaman-and-nicobar-islands', 'so2'].mean()\n",
    "print(mean_so2_andaman)"
   ]
  },
  {
   "cell_type": "code",
   "execution_count": 41,
   "id": "1c7d3a4d",
   "metadata": {},
   "outputs": [
    {
     "name": "stdout",
     "output_type": "stream",
     "text": [
      "nan\n"
     ]
    }
   ],
   "source": [
    "mean_so2_lakshadweep = df.loc[df['state']=='Lakshadweep', 'so2'].mean()\n",
    "print(mean_so2_lakshadweep)"
   ]
  },
  {
   "cell_type": "code",
   "execution_count": 42,
   "id": "75314b01",
   "metadata": {
    "scrolled": true
   },
   "outputs": [
    {
     "name": "stdout",
     "output_type": "stream",
     "text": [
      "nan\n"
     ]
    }
   ],
   "source": [
    "mean_so2_tripura = df.loc[df['state']=='Tripura', 'so2'].mean()\n",
    "print(mean_so2_tripura)"
   ]
  },
  {
   "cell_type": "code",
   "execution_count": 4,
   "id": "32b507fa",
   "metadata": {
    "scrolled": true
   },
   "outputs": [
    {
     "data": {
      "text/html": [
       "<div>\n",
       "<style scoped>\n",
       "    .dataframe tbody tr th:only-of-type {\n",
       "        vertical-align: middle;\n",
       "    }\n",
       "\n",
       "    .dataframe tbody tr th {\n",
       "        vertical-align: top;\n",
       "    }\n",
       "\n",
       "    .dataframe thead th {\n",
       "        text-align: right;\n",
       "    }\n",
       "</style>\n",
       "<table border=\"1\" class=\"dataframe\">\n",
       "  <thead>\n",
       "    <tr style=\"text-align: right;\">\n",
       "      <th></th>\n",
       "      <th>State</th>\n",
       "      <th>Mean SO2</th>\n",
       "    </tr>\n",
       "  </thead>\n",
       "  <tbody>\n",
       "    <tr>\n",
       "      <th>0</th>\n",
       "      <td>Andhra Pradesh</td>\n",
       "      <td>7.284845</td>\n",
       "    </tr>\n",
       "    <tr>\n",
       "      <th>1</th>\n",
       "      <td>Arunachal Pradesh</td>\n",
       "      <td>3.179104</td>\n",
       "    </tr>\n",
       "    <tr>\n",
       "      <th>2</th>\n",
       "      <td>Assam</td>\n",
       "      <td>6.723263</td>\n",
       "    </tr>\n",
       "    <tr>\n",
       "      <th>3</th>\n",
       "      <td>Bihar</td>\n",
       "      <td>19.381476</td>\n",
       "    </tr>\n",
       "    <tr>\n",
       "      <th>4</th>\n",
       "      <td>Chandigarh</td>\n",
       "      <td>2.676986</td>\n",
       "    </tr>\n",
       "    <tr>\n",
       "      <th>5</th>\n",
       "      <td>Chhattisgarh</td>\n",
       "      <td>12.846609</td>\n",
       "    </tr>\n",
       "    <tr>\n",
       "      <th>6</th>\n",
       "      <td>Dadra &amp; Nagar Haveli</td>\n",
       "      <td>8.939587</td>\n",
       "    </tr>\n",
       "    <tr>\n",
       "      <th>7</th>\n",
       "      <td>Daman &amp; Diu</td>\n",
       "      <td>8.192958</td>\n",
       "    </tr>\n",
       "    <tr>\n",
       "      <th>8</th>\n",
       "      <td>Delhi</td>\n",
       "      <td>8.737273</td>\n",
       "    </tr>\n",
       "    <tr>\n",
       "      <th>9</th>\n",
       "      <td>Goa</td>\n",
       "      <td>6.827913</td>\n",
       "    </tr>\n",
       "    <tr>\n",
       "      <th>10</th>\n",
       "      <td>Gujarat</td>\n",
       "      <td>16.656343</td>\n",
       "    </tr>\n",
       "    <tr>\n",
       "      <th>11</th>\n",
       "      <td>Haryana</td>\n",
       "      <td>14.064957</td>\n",
       "    </tr>\n",
       "    <tr>\n",
       "      <th>12</th>\n",
       "      <td>Himachal Pradesh</td>\n",
       "      <td>2.667013</td>\n",
       "    </tr>\n",
       "    <tr>\n",
       "      <th>13</th>\n",
       "      <td>Jammu &amp; Kashmir</td>\n",
       "      <td>7.180521</td>\n",
       "    </tr>\n",
       "    <tr>\n",
       "      <th>14</th>\n",
       "      <td>Jharkhand</td>\n",
       "      <td>23.485794</td>\n",
       "    </tr>\n",
       "    <tr>\n",
       "      <th>15</th>\n",
       "      <td>Karnataka</td>\n",
       "      <td>10.223099</td>\n",
       "    </tr>\n",
       "    <tr>\n",
       "      <th>16</th>\n",
       "      <td>Kerala</td>\n",
       "      <td>5.322350</td>\n",
       "    </tr>\n",
       "    <tr>\n",
       "      <th>17</th>\n",
       "      <td>Madhya Pradesh</td>\n",
       "      <td>11.587410</td>\n",
       "    </tr>\n",
       "    <tr>\n",
       "      <th>18</th>\n",
       "      <td>Maharashtra</td>\n",
       "      <td>17.366863</td>\n",
       "    </tr>\n",
       "    <tr>\n",
       "      <th>19</th>\n",
       "      <td>Manipur</td>\n",
       "      <td>3.900000</td>\n",
       "    </tr>\n",
       "    <tr>\n",
       "      <th>20</th>\n",
       "      <td>Meghalaya</td>\n",
       "      <td>8.955908</td>\n",
       "    </tr>\n",
       "    <tr>\n",
       "      <th>21</th>\n",
       "      <td>Mizoram</td>\n",
       "      <td>2.085009</td>\n",
       "    </tr>\n",
       "    <tr>\n",
       "      <th>22</th>\n",
       "      <td>Nagaland</td>\n",
       "      <td>2.059736</td>\n",
       "    </tr>\n",
       "    <tr>\n",
       "      <th>23</th>\n",
       "      <td>Odisha</td>\n",
       "      <td>5.275874</td>\n",
       "    </tr>\n",
       "    <tr>\n",
       "      <th>24</th>\n",
       "      <td>Puducherry</td>\n",
       "      <td>11.970639</td>\n",
       "    </tr>\n",
       "    <tr>\n",
       "      <th>25</th>\n",
       "      <td>Punjab</td>\n",
       "      <td>10.628598</td>\n",
       "    </tr>\n",
       "    <tr>\n",
       "      <th>26</th>\n",
       "      <td>Rajasthan</td>\n",
       "      <td>7.665725</td>\n",
       "    </tr>\n",
       "    <tr>\n",
       "      <th>27</th>\n",
       "      <td>Sikkim</td>\n",
       "      <td>19.800000</td>\n",
       "    </tr>\n",
       "    <tr>\n",
       "      <th>28</th>\n",
       "      <td>Tamil Nadu</td>\n",
       "      <td>11.315134</td>\n",
       "    </tr>\n",
       "    <tr>\n",
       "      <th>29</th>\n",
       "      <td>Telangana</td>\n",
       "      <td>5.418609</td>\n",
       "    </tr>\n",
       "    <tr>\n",
       "      <th>30</th>\n",
       "      <td>Uttar Pradesh</td>\n",
       "      <td>12.528500</td>\n",
       "    </tr>\n",
       "    <tr>\n",
       "      <th>31</th>\n",
       "      <td>Uttarakhand</td>\n",
       "      <td>24.372957</td>\n",
       "    </tr>\n",
       "    <tr>\n",
       "      <th>32</th>\n",
       "      <td>Uttaranchal</td>\n",
       "      <td>24.697736</td>\n",
       "    </tr>\n",
       "    <tr>\n",
       "      <th>33</th>\n",
       "      <td>West Bengal</td>\n",
       "      <td>12.608766</td>\n",
       "    </tr>\n",
       "    <tr>\n",
       "      <th>34</th>\n",
       "      <td>andaman-and-nicobar-islands</td>\n",
       "      <td>NaN</td>\n",
       "    </tr>\n",
       "    <tr>\n",
       "      <th>35</th>\n",
       "      <td>Lakshadweep</td>\n",
       "      <td>NaN</td>\n",
       "    </tr>\n",
       "    <tr>\n",
       "      <th>36</th>\n",
       "      <td>Tripura</td>\n",
       "      <td>NaN</td>\n",
       "    </tr>\n",
       "  </tbody>\n",
       "</table>\n",
       "</div>"
      ],
      "text/plain": [
       "                          State   Mean SO2\n",
       "0                Andhra Pradesh   7.284845\n",
       "1             Arunachal Pradesh   3.179104\n",
       "2                         Assam   6.723263\n",
       "3                         Bihar  19.381476\n",
       "4                    Chandigarh   2.676986\n",
       "5                  Chhattisgarh  12.846609\n",
       "6          Dadra & Nagar Haveli   8.939587\n",
       "7                   Daman & Diu   8.192958\n",
       "8                         Delhi   8.737273\n",
       "9                           Goa   6.827913\n",
       "10                      Gujarat  16.656343\n",
       "11                      Haryana  14.064957\n",
       "12             Himachal Pradesh   2.667013\n",
       "13              Jammu & Kashmir   7.180521\n",
       "14                    Jharkhand  23.485794\n",
       "15                    Karnataka  10.223099\n",
       "16                       Kerala   5.322350\n",
       "17               Madhya Pradesh  11.587410\n",
       "18                  Maharashtra  17.366863\n",
       "19                      Manipur   3.900000\n",
       "20                    Meghalaya   8.955908\n",
       "21                      Mizoram   2.085009\n",
       "22                     Nagaland   2.059736\n",
       "23                       Odisha   5.275874\n",
       "24                   Puducherry  11.970639\n",
       "25                       Punjab  10.628598\n",
       "26                    Rajasthan   7.665725\n",
       "27                       Sikkim  19.800000\n",
       "28                   Tamil Nadu  11.315134\n",
       "29                    Telangana   5.418609\n",
       "30                Uttar Pradesh  12.528500\n",
       "31                  Uttarakhand  24.372957\n",
       "32                  Uttaranchal  24.697736\n",
       "33                  West Bengal  12.608766\n",
       "34  andaman-and-nicobar-islands        NaN\n",
       "35                  Lakshadweep        NaN\n",
       "36                      Tripura        NaN"
      ]
     },
     "metadata": {},
     "output_type": "display_data"
    }
   ],
   "source": [
    "stateVsSo2 = pd.DataFrame({'State' : pd.Series(dtype = 'str'), 'Mean SO2' : pd.Series(dtype = 'float')})\n",
    "for i in df.state.unique():\n",
    "        so2 = df.loc[df['state']== i , 'so2'].mean()        \n",
    "        stateVsSo2.loc[len(stateVsSo2)] = [i, so2] \n",
    "display(stateVsSo2)"
   ]
  },
  {
   "cell_type": "code",
   "execution_count": 5,
   "id": "9ace9f82",
   "metadata": {},
   "outputs": [],
   "source": [
    "writer = pd.ExcelWriter('stateVsSo2.xlsx') #create excel writer object. stateVsSo2 is the name of the excel sheet I'm giving\n",
    "stateVsSo2.to_excel(writer) #write dataframe to excel, the stateVsSo2 used here is the name of the table in python\n",
    "writer.save() #save the excel"
   ]
  },
  {
   "cell_type": "code",
   "execution_count": 44,
   "id": "5095f1d4",
   "metadata": {},
   "outputs": [
    {
     "name": "stdout",
     "output_type": "stream",
     "text": [
      "21.704450555835237\n"
     ]
    }
   ],
   "source": [
    "mean_no2_andhra = df.loc[df['state']=='Andhra Pradesh', 'no2'].mean()\n",
    "print(mean_no2_andhra)"
   ]
  },
  {
   "cell_type": "code",
   "execution_count": 45,
   "id": "cd28b808",
   "metadata": {},
   "outputs": [
    {
     "name": "stdout",
     "output_type": "stream",
     "text": [
      "5.46969696969697\n"
     ]
    }
   ],
   "source": [
    "mean_no2_arunachal = df.loc[df['state']=='Arunachal Pradesh', 'no2'].mean()\n",
    "print(mean_no2_arunachal)"
   ]
  },
  {
   "cell_type": "code",
   "execution_count": 177,
   "id": "aed99bde",
   "metadata": {
    "scrolled": true
   },
   "outputs": [
    {
     "name": "stdout",
     "output_type": "stream",
     "text": [
      "14.793691007156418\n"
     ]
    }
   ],
   "source": [
    "mean_no2_assam = df.loc[df['state']=='Assam', 'no2'].mean()\n",
    "print(mean_no2_assam)"
   ]
  },
  {
   "cell_type": "code",
   "execution_count": 46,
   "id": "e71a6c0a",
   "metadata": {},
   "outputs": [
    {
     "name": "stdout",
     "output_type": "stream",
     "text": [
      "36.57552511415525\n"
     ]
    }
   ],
   "source": [
    "mean_no2_bihar = df.loc[df['state']=='Bihar', 'no2'].mean()\n",
    "print(mean_no2_bihar)"
   ]
  },
  {
   "cell_type": "code",
   "execution_count": 47,
   "id": "9cbce067",
   "metadata": {},
   "outputs": [
    {
     "name": "stdout",
     "output_type": "stream",
     "text": [
      "18.619404165568273\n"
     ]
    }
   ],
   "source": [
    "mean_no2_chandigarh = df.loc[df['state']=='Chandigarh', 'no2'].mean()\n",
    "print(mean_no2_chandigarh)"
   ]
  },
  {
   "cell_type": "code",
   "execution_count": 48,
   "id": "0c067aaf",
   "metadata": {},
   "outputs": [
    {
     "name": "stdout",
     "output_type": "stream",
     "text": [
      "nan\n"
     ]
    }
   ],
   "source": [
    "mean_no2_chattisgarh = df.loc[df['state']=='Chattisgarh', 'no2'].mean()\n",
    "print(mean_no2_chattisgarh)"
   ]
  },
  {
   "cell_type": "code",
   "execution_count": 49,
   "id": "91f7252d",
   "metadata": {},
   "outputs": [
    {
     "name": "stdout",
     "output_type": "stream",
     "text": [
      "18.293958664546892\n"
     ]
    }
   ],
   "source": [
    "mean_no2_dadra = df.loc[df['state']=='Dadra & Nagar Haveli', 'no2'].mean()\n",
    "print(mean_no2_dadra)"
   ]
  },
  {
   "cell_type": "code",
   "execution_count": 50,
   "id": "3ea5ffa0",
   "metadata": {},
   "outputs": [
    {
     "name": "stdout",
     "output_type": "stream",
     "text": [
      "16.168925831202053\n"
     ]
    }
   ],
   "source": [
    "mean_no2_daman = df.loc[df['state']=='Daman & Diu', 'no2'].mean()\n",
    "print(mean_no2_daman)"
   ]
  },
  {
   "cell_type": "code",
   "execution_count": 6,
   "id": "165a5da6",
   "metadata": {},
   "outputs": [
    {
     "data": {
      "text/html": [
       "<div>\n",
       "<style scoped>\n",
       "    .dataframe tbody tr th:only-of-type {\n",
       "        vertical-align: middle;\n",
       "    }\n",
       "\n",
       "    .dataframe tbody tr th {\n",
       "        vertical-align: top;\n",
       "    }\n",
       "\n",
       "    .dataframe thead th {\n",
       "        text-align: right;\n",
       "    }\n",
       "</style>\n",
       "<table border=\"1\" class=\"dataframe\">\n",
       "  <thead>\n",
       "    <tr style=\"text-align: right;\">\n",
       "      <th></th>\n",
       "      <th>State</th>\n",
       "      <th>Mean NO2</th>\n",
       "    </tr>\n",
       "  </thead>\n",
       "  <tbody>\n",
       "    <tr>\n",
       "      <th>0</th>\n",
       "      <td>Andhra Pradesh</td>\n",
       "      <td>21.704451</td>\n",
       "    </tr>\n",
       "    <tr>\n",
       "      <th>1</th>\n",
       "      <td>Arunachal Pradesh</td>\n",
       "      <td>5.469697</td>\n",
       "    </tr>\n",
       "    <tr>\n",
       "      <th>2</th>\n",
       "      <td>Assam</td>\n",
       "      <td>14.793691</td>\n",
       "    </tr>\n",
       "    <tr>\n",
       "      <th>3</th>\n",
       "      <td>Bihar</td>\n",
       "      <td>36.575525</td>\n",
       "    </tr>\n",
       "    <tr>\n",
       "      <th>4</th>\n",
       "      <td>Chandigarh</td>\n",
       "      <td>18.619404</td>\n",
       "    </tr>\n",
       "    <tr>\n",
       "      <th>5</th>\n",
       "      <td>Chhattisgarh</td>\n",
       "      <td>24.815961</td>\n",
       "    </tr>\n",
       "    <tr>\n",
       "      <th>6</th>\n",
       "      <td>Dadra &amp; Nagar Haveli</td>\n",
       "      <td>18.293959</td>\n",
       "    </tr>\n",
       "    <tr>\n",
       "      <th>7</th>\n",
       "      <td>Daman &amp; Diu</td>\n",
       "      <td>16.168926</td>\n",
       "    </tr>\n",
       "    <tr>\n",
       "      <th>8</th>\n",
       "      <td>Delhi</td>\n",
       "      <td>53.489147</td>\n",
       "    </tr>\n",
       "    <tr>\n",
       "      <th>9</th>\n",
       "      <td>Goa</td>\n",
       "      <td>12.506337</td>\n",
       "    </tr>\n",
       "    <tr>\n",
       "      <th>10</th>\n",
       "      <td>Gujarat</td>\n",
       "      <td>24.065631</td>\n",
       "    </tr>\n",
       "    <tr>\n",
       "      <th>11</th>\n",
       "      <td>Haryana</td>\n",
       "      <td>23.428311</td>\n",
       "    </tr>\n",
       "    <tr>\n",
       "      <th>12</th>\n",
       "      <td>Himachal Pradesh</td>\n",
       "      <td>13.658688</td>\n",
       "    </tr>\n",
       "    <tr>\n",
       "      <th>13</th>\n",
       "      <td>Jammu &amp; Kashmir</td>\n",
       "      <td>12.213181</td>\n",
       "    </tr>\n",
       "    <tr>\n",
       "      <th>14</th>\n",
       "      <td>Jharkhand</td>\n",
       "      <td>43.366341</td>\n",
       "    </tr>\n",
       "    <tr>\n",
       "      <th>15</th>\n",
       "      <td>Karnataka</td>\n",
       "      <td>22.702837</td>\n",
       "    </tr>\n",
       "    <tr>\n",
       "      <th>16</th>\n",
       "      <td>Kerala</td>\n",
       "      <td>14.421889</td>\n",
       "    </tr>\n",
       "    <tr>\n",
       "      <th>17</th>\n",
       "      <td>Madhya Pradesh</td>\n",
       "      <td>18.639596</td>\n",
       "    </tr>\n",
       "    <tr>\n",
       "      <th>18</th>\n",
       "      <td>Maharashtra</td>\n",
       "      <td>32.115370</td>\n",
       "    </tr>\n",
       "    <tr>\n",
       "      <th>19</th>\n",
       "      <td>Manipur</td>\n",
       "      <td>20.173684</td>\n",
       "    </tr>\n",
       "    <tr>\n",
       "      <th>20</th>\n",
       "      <td>Meghalaya</td>\n",
       "      <td>10.659706</td>\n",
       "    </tr>\n",
       "    <tr>\n",
       "      <th>21</th>\n",
       "      <td>Mizoram</td>\n",
       "      <td>6.682171</td>\n",
       "    </tr>\n",
       "    <tr>\n",
       "      <th>22</th>\n",
       "      <td>Nagaland</td>\n",
       "      <td>8.947265</td>\n",
       "    </tr>\n",
       "    <tr>\n",
       "      <th>23</th>\n",
       "      <td>Odisha</td>\n",
       "      <td>16.899568</td>\n",
       "    </tr>\n",
       "    <tr>\n",
       "      <th>24</th>\n",
       "      <td>Puducherry</td>\n",
       "      <td>15.279496</td>\n",
       "    </tr>\n",
       "    <tr>\n",
       "      <th>25</th>\n",
       "      <td>Punjab</td>\n",
       "      <td>28.085846</td>\n",
       "    </tr>\n",
       "    <tr>\n",
       "      <th>26</th>\n",
       "      <td>Rajasthan</td>\n",
       "      <td>30.441008</td>\n",
       "    </tr>\n",
       "    <tr>\n",
       "      <th>27</th>\n",
       "      <td>Sikkim</td>\n",
       "      <td>26.800000</td>\n",
       "    </tr>\n",
       "    <tr>\n",
       "      <th>28</th>\n",
       "      <td>Tamil Nadu</td>\n",
       "      <td>21.601202</td>\n",
       "    </tr>\n",
       "    <tr>\n",
       "      <th>29</th>\n",
       "      <td>Telangana</td>\n",
       "      <td>23.864005</td>\n",
       "    </tr>\n",
       "    <tr>\n",
       "      <th>30</th>\n",
       "      <td>Uttar Pradesh</td>\n",
       "      <td>27.610095</td>\n",
       "    </tr>\n",
       "    <tr>\n",
       "      <th>31</th>\n",
       "      <td>Uttarakhand</td>\n",
       "      <td>26.938090</td>\n",
       "    </tr>\n",
       "    <tr>\n",
       "      <th>32</th>\n",
       "      <td>Uttaranchal</td>\n",
       "      <td>27.163019</td>\n",
       "    </tr>\n",
       "    <tr>\n",
       "      <th>33</th>\n",
       "      <td>West Bengal</td>\n",
       "      <td>59.075731</td>\n",
       "    </tr>\n",
       "    <tr>\n",
       "      <th>34</th>\n",
       "      <td>andaman-and-nicobar-islands</td>\n",
       "      <td>NaN</td>\n",
       "    </tr>\n",
       "    <tr>\n",
       "      <th>35</th>\n",
       "      <td>Lakshadweep</td>\n",
       "      <td>NaN</td>\n",
       "    </tr>\n",
       "    <tr>\n",
       "      <th>36</th>\n",
       "      <td>Tripura</td>\n",
       "      <td>NaN</td>\n",
       "    </tr>\n",
       "  </tbody>\n",
       "</table>\n",
       "</div>"
      ],
      "text/plain": [
       "                          State   Mean NO2\n",
       "0                Andhra Pradesh  21.704451\n",
       "1             Arunachal Pradesh   5.469697\n",
       "2                         Assam  14.793691\n",
       "3                         Bihar  36.575525\n",
       "4                    Chandigarh  18.619404\n",
       "5                  Chhattisgarh  24.815961\n",
       "6          Dadra & Nagar Haveli  18.293959\n",
       "7                   Daman & Diu  16.168926\n",
       "8                         Delhi  53.489147\n",
       "9                           Goa  12.506337\n",
       "10                      Gujarat  24.065631\n",
       "11                      Haryana  23.428311\n",
       "12             Himachal Pradesh  13.658688\n",
       "13              Jammu & Kashmir  12.213181\n",
       "14                    Jharkhand  43.366341\n",
       "15                    Karnataka  22.702837\n",
       "16                       Kerala  14.421889\n",
       "17               Madhya Pradesh  18.639596\n",
       "18                  Maharashtra  32.115370\n",
       "19                      Manipur  20.173684\n",
       "20                    Meghalaya  10.659706\n",
       "21                      Mizoram   6.682171\n",
       "22                     Nagaland   8.947265\n",
       "23                       Odisha  16.899568\n",
       "24                   Puducherry  15.279496\n",
       "25                       Punjab  28.085846\n",
       "26                    Rajasthan  30.441008\n",
       "27                       Sikkim  26.800000\n",
       "28                   Tamil Nadu  21.601202\n",
       "29                    Telangana  23.864005\n",
       "30                Uttar Pradesh  27.610095\n",
       "31                  Uttarakhand  26.938090\n",
       "32                  Uttaranchal  27.163019\n",
       "33                  West Bengal  59.075731\n",
       "34  andaman-and-nicobar-islands        NaN\n",
       "35                  Lakshadweep        NaN\n",
       "36                      Tripura        NaN"
      ]
     },
     "metadata": {},
     "output_type": "display_data"
    }
   ],
   "source": [
    "stateVsNo2 = pd.DataFrame({'State' : pd.Series(dtype = 'str'), 'Mean NO2' : pd.Series(dtype = 'float')})\n",
    "for i in df.state.unique():\n",
    "        no2 = df.loc[df['state']== i , 'no2'].mean()        \n",
    "        stateVsNo2.loc[len(stateVsNo2)] = [i, no2] \n",
    "display(stateVsNo2)\n"
   ]
  },
  {
   "cell_type": "code",
   "execution_count": 7,
   "id": "566fd0c4",
   "metadata": {},
   "outputs": [],
   "source": [
    "writer2 = pd.ExcelWriter('stateVsNo2.xlsx') #create excel writer object. stateVsNo2 is the name of the excel sheet I'm giving\n",
    "stateVsNo2.to_excel(writer2) #write dataframe to excel, the stateVsNo2 used here is the name of the table in python\n",
    "writer2.save()"
   ]
  },
  {
   "cell_type": "code",
   "execution_count": 8,
   "id": "cd7bb716",
   "metadata": {},
   "outputs": [
    {
     "ename": "ModuleNotFoundError",
     "evalue": "No module named 'geopandas'",
     "output_type": "error",
     "traceback": [
      "\u001b[1;31m---------------------------------------------------------------------------\u001b[0m",
      "\u001b[1;31mModuleNotFoundError\u001b[0m                       Traceback (most recent call last)",
      "\u001b[1;32m~\\AppData\\Local\\Temp\\ipykernel_22644\\3829866101.py\u001b[0m in \u001b[0;36m<module>\u001b[1;34m\u001b[0m\n\u001b[0;32m      1\u001b[0m \u001b[1;32mimport\u001b[0m \u001b[0mmatplotlib\u001b[0m\u001b[1;33m.\u001b[0m\u001b[0mpyplot\u001b[0m \u001b[1;32mas\u001b[0m \u001b[0mplt\u001b[0m\u001b[1;33m\u001b[0m\u001b[1;33m\u001b[0m\u001b[0m\n\u001b[1;32m----> 2\u001b[1;33m \u001b[1;32mimport\u001b[0m \u001b[0mgeopandas\u001b[0m \u001b[1;32mas\u001b[0m \u001b[0mgpd\u001b[0m\u001b[1;33m\u001b[0m\u001b[1;33m\u001b[0m\u001b[0m\n\u001b[0m",
      "\u001b[1;31mModuleNotFoundError\u001b[0m: No module named 'geopandas'"
     ]
    }
   ],
   "source": [
    "import matplotlib.pyplot as plt\n",
    "import geopandas as gpd\n"
   ]
  },
  {
   "cell_type": "code",
   "execution_count": 9,
   "id": "f951438e",
   "metadata": {},
   "outputs": [
    {
     "data": {
      "text/html": [
       "<div>\n",
       "<style scoped>\n",
       "    .dataframe tbody tr th:only-of-type {\n",
       "        vertical-align: middle;\n",
       "    }\n",
       "\n",
       "    .dataframe tbody tr th {\n",
       "        vertical-align: top;\n",
       "    }\n",
       "\n",
       "    .dataframe thead th {\n",
       "        text-align: right;\n",
       "    }\n",
       "</style>\n",
       "<table border=\"1\" class=\"dataframe\">\n",
       "  <thead>\n",
       "    <tr style=\"text-align: right;\">\n",
       "      <th></th>\n",
       "      <th>State</th>\n",
       "      <th>Mean SPM</th>\n",
       "    </tr>\n",
       "  </thead>\n",
       "  <tbody>\n",
       "    <tr>\n",
       "      <th>0</th>\n",
       "      <td>Andhra Pradesh</td>\n",
       "      <td>200.260378</td>\n",
       "    </tr>\n",
       "    <tr>\n",
       "      <th>1</th>\n",
       "      <td>Arunachal Pradesh</td>\n",
       "      <td>NaN</td>\n",
       "    </tr>\n",
       "    <tr>\n",
       "      <th>2</th>\n",
       "      <td>Assam</td>\n",
       "      <td>153.355386</td>\n",
       "    </tr>\n",
       "    <tr>\n",
       "      <th>3</th>\n",
       "      <td>Bihar</td>\n",
       "      <td>276.917416</td>\n",
       "    </tr>\n",
       "    <tr>\n",
       "      <th>4</th>\n",
       "      <td>Chandigarh</td>\n",
       "      <td>206.056150</td>\n",
       "    </tr>\n",
       "    <tr>\n",
       "      <th>5</th>\n",
       "      <td>Chhattisgarh</td>\n",
       "      <td>231.290969</td>\n",
       "    </tr>\n",
       "    <tr>\n",
       "      <th>6</th>\n",
       "      <td>Dadra &amp; Nagar Haveli</td>\n",
       "      <td>170.545024</td>\n",
       "    </tr>\n",
       "    <tr>\n",
       "      <th>7</th>\n",
       "      <td>Daman &amp; Diu</td>\n",
       "      <td>145.681416</td>\n",
       "    </tr>\n",
       "    <tr>\n",
       "      <th>8</th>\n",
       "      <td>Delhi</td>\n",
       "      <td>399.402088</td>\n",
       "    </tr>\n",
       "    <tr>\n",
       "      <th>9</th>\n",
       "      <td>Goa</td>\n",
       "      <td>67.254193</td>\n",
       "    </tr>\n",
       "    <tr>\n",
       "      <th>10</th>\n",
       "      <td>Gujarat</td>\n",
       "      <td>191.567930</td>\n",
       "    </tr>\n",
       "    <tr>\n",
       "      <th>11</th>\n",
       "      <td>Haryana</td>\n",
       "      <td>268.264804</td>\n",
       "    </tr>\n",
       "    <tr>\n",
       "      <th>12</th>\n",
       "      <td>Himachal Pradesh</td>\n",
       "      <td>208.575630</td>\n",
       "    </tr>\n",
       "    <tr>\n",
       "      <th>13</th>\n",
       "      <td>Jammu &amp; Kashmir</td>\n",
       "      <td>196.221053</td>\n",
       "    </tr>\n",
       "    <tr>\n",
       "      <th>14</th>\n",
       "      <td>Jharkhand</td>\n",
       "      <td>277.940746</td>\n",
       "    </tr>\n",
       "    <tr>\n",
       "      <th>15</th>\n",
       "      <td>Karnataka</td>\n",
       "      <td>168.001743</td>\n",
       "    </tr>\n",
       "    <tr>\n",
       "      <th>16</th>\n",
       "      <td>Kerala</td>\n",
       "      <td>84.419791</td>\n",
       "    </tr>\n",
       "    <tr>\n",
       "      <th>17</th>\n",
       "      <td>Madhya Pradesh</td>\n",
       "      <td>210.067545</td>\n",
       "    </tr>\n",
       "    <tr>\n",
       "      <th>18</th>\n",
       "      <td>Maharashtra</td>\n",
       "      <td>205.255823</td>\n",
       "    </tr>\n",
       "    <tr>\n",
       "      <th>19</th>\n",
       "      <td>Manipur</td>\n",
       "      <td>158.657895</td>\n",
       "    </tr>\n",
       "    <tr>\n",
       "      <th>20</th>\n",
       "      <td>Meghalaya</td>\n",
       "      <td>78.002445</td>\n",
       "    </tr>\n",
       "    <tr>\n",
       "      <th>21</th>\n",
       "      <td>Mizoram</td>\n",
       "      <td>87.833333</td>\n",
       "    </tr>\n",
       "    <tr>\n",
       "      <th>22</th>\n",
       "      <td>Nagaland</td>\n",
       "      <td>133.311449</td>\n",
       "    </tr>\n",
       "    <tr>\n",
       "      <th>23</th>\n",
       "      <td>Odisha</td>\n",
       "      <td>167.609844</td>\n",
       "    </tr>\n",
       "    <tr>\n",
       "      <th>24</th>\n",
       "      <td>Puducherry</td>\n",
       "      <td>95.598188</td>\n",
       "    </tr>\n",
       "    <tr>\n",
       "      <th>25</th>\n",
       "      <td>Punjab</td>\n",
       "      <td>244.918926</td>\n",
       "    </tr>\n",
       "    <tr>\n",
       "      <th>26</th>\n",
       "      <td>Rajasthan</td>\n",
       "      <td>300.735397</td>\n",
       "    </tr>\n",
       "    <tr>\n",
       "      <th>27</th>\n",
       "      <td>Sikkim</td>\n",
       "      <td>75.000000</td>\n",
       "    </tr>\n",
       "    <tr>\n",
       "      <th>28</th>\n",
       "      <td>Tamil Nadu</td>\n",
       "      <td>126.729064</td>\n",
       "    </tr>\n",
       "    <tr>\n",
       "      <th>29</th>\n",
       "      <td>Telangana</td>\n",
       "      <td>NaN</td>\n",
       "    </tr>\n",
       "    <tr>\n",
       "      <th>30</th>\n",
       "      <td>Uttar Pradesh</td>\n",
       "      <td>372.663688</td>\n",
       "    </tr>\n",
       "    <tr>\n",
       "      <th>31</th>\n",
       "      <td>Uttarakhand</td>\n",
       "      <td>306.758923</td>\n",
       "    </tr>\n",
       "    <tr>\n",
       "      <th>32</th>\n",
       "      <td>Uttaranchal</td>\n",
       "      <td>283.335714</td>\n",
       "    </tr>\n",
       "    <tr>\n",
       "      <th>33</th>\n",
       "      <td>West Bengal</td>\n",
       "      <td>233.506524</td>\n",
       "    </tr>\n",
       "    <tr>\n",
       "      <th>34</th>\n",
       "      <td>andaman-and-nicobar-islands</td>\n",
       "      <td>NaN</td>\n",
       "    </tr>\n",
       "    <tr>\n",
       "      <th>35</th>\n",
       "      <td>Lakshadweep</td>\n",
       "      <td>NaN</td>\n",
       "    </tr>\n",
       "    <tr>\n",
       "      <th>36</th>\n",
       "      <td>Tripura</td>\n",
       "      <td>NaN</td>\n",
       "    </tr>\n",
       "  </tbody>\n",
       "</table>\n",
       "</div>"
      ],
      "text/plain": [
       "                          State    Mean SPM\n",
       "0                Andhra Pradesh  200.260378\n",
       "1             Arunachal Pradesh         NaN\n",
       "2                         Assam  153.355386\n",
       "3                         Bihar  276.917416\n",
       "4                    Chandigarh  206.056150\n",
       "5                  Chhattisgarh  231.290969\n",
       "6          Dadra & Nagar Haveli  170.545024\n",
       "7                   Daman & Diu  145.681416\n",
       "8                         Delhi  399.402088\n",
       "9                           Goa   67.254193\n",
       "10                      Gujarat  191.567930\n",
       "11                      Haryana  268.264804\n",
       "12             Himachal Pradesh  208.575630\n",
       "13              Jammu & Kashmir  196.221053\n",
       "14                    Jharkhand  277.940746\n",
       "15                    Karnataka  168.001743\n",
       "16                       Kerala   84.419791\n",
       "17               Madhya Pradesh  210.067545\n",
       "18                  Maharashtra  205.255823\n",
       "19                      Manipur  158.657895\n",
       "20                    Meghalaya   78.002445\n",
       "21                      Mizoram   87.833333\n",
       "22                     Nagaland  133.311449\n",
       "23                       Odisha  167.609844\n",
       "24                   Puducherry   95.598188\n",
       "25                       Punjab  244.918926\n",
       "26                    Rajasthan  300.735397\n",
       "27                       Sikkim   75.000000\n",
       "28                   Tamil Nadu  126.729064\n",
       "29                    Telangana         NaN\n",
       "30                Uttar Pradesh  372.663688\n",
       "31                  Uttarakhand  306.758923\n",
       "32                  Uttaranchal  283.335714\n",
       "33                  West Bengal  233.506524\n",
       "34  andaman-and-nicobar-islands         NaN\n",
       "35                  Lakshadweep         NaN\n",
       "36                      Tripura         NaN"
      ]
     },
     "metadata": {},
     "output_type": "display_data"
    }
   ],
   "source": [
    "stateVsSpm = pd.DataFrame({'State' : pd.Series(dtype = 'str'), 'Mean SPM' : pd.Series(dtype = 'float')})\n",
    "for i in df.state.unique():\n",
    "        spm = df.loc[df['state']== i , 'spm'].mean()        \n",
    "        stateVsSpm.loc[len(stateVsSpm)] = [i, spm] \n",
    "display(stateVsSpm)"
   ]
  },
  {
   "cell_type": "code",
   "execution_count": 10,
   "id": "cd4c0a5d",
   "metadata": {},
   "outputs": [],
   "source": [
    "writer3 = pd.ExcelWriter('stateVsSpm.xlsx') #create excel writer object. stateVsSpm is the name of the excel sheet I'm giving\n",
    "stateVsSpm.to_excel(writer3) #write dataframe to excel, the stateVsSpm used here is the name of the table in python\n",
    "writer3.save()"
   ]
  },
  {
   "cell_type": "code",
   "execution_count": 11,
   "id": "af8628ea",
   "metadata": {},
   "outputs": [
    {
     "data": {
      "text/html": [
       "<div>\n",
       "<style scoped>\n",
       "    .dataframe tbody tr th:only-of-type {\n",
       "        vertical-align: middle;\n",
       "    }\n",
       "\n",
       "    .dataframe tbody tr th {\n",
       "        vertical-align: top;\n",
       "    }\n",
       "\n",
       "    .dataframe thead th {\n",
       "        text-align: right;\n",
       "    }\n",
       "</style>\n",
       "<table border=\"1\" class=\"dataframe\">\n",
       "  <thead>\n",
       "    <tr style=\"text-align: right;\">\n",
       "      <th></th>\n",
       "      <th>State</th>\n",
       "      <th>Mean RSPM</th>\n",
       "    </tr>\n",
       "  </thead>\n",
       "  <tbody>\n",
       "    <tr>\n",
       "      <th>0</th>\n",
       "      <td>Andhra Pradesh</td>\n",
       "      <td>78.182824</td>\n",
       "    </tr>\n",
       "    <tr>\n",
       "      <th>1</th>\n",
       "      <td>Arunachal Pradesh</td>\n",
       "      <td>76.629213</td>\n",
       "    </tr>\n",
       "    <tr>\n",
       "      <th>2</th>\n",
       "      <td>Assam</td>\n",
       "      <td>93.724912</td>\n",
       "    </tr>\n",
       "    <tr>\n",
       "      <th>3</th>\n",
       "      <td>Bihar</td>\n",
       "      <td>123.705176</td>\n",
       "    </tr>\n",
       "    <tr>\n",
       "      <th>4</th>\n",
       "      <td>Chandigarh</td>\n",
       "      <td>96.587079</td>\n",
       "    </tr>\n",
       "    <tr>\n",
       "      <th>5</th>\n",
       "      <td>Chhattisgarh</td>\n",
       "      <td>126.472399</td>\n",
       "    </tr>\n",
       "    <tr>\n",
       "      <th>6</th>\n",
       "      <td>Dadra &amp; Nagar Haveli</td>\n",
       "      <td>76.536530</td>\n",
       "    </tr>\n",
       "    <tr>\n",
       "      <th>7</th>\n",
       "      <td>Daman &amp; Diu</td>\n",
       "      <td>73.749431</td>\n",
       "    </tr>\n",
       "    <tr>\n",
       "      <th>8</th>\n",
       "      <td>Delhi</td>\n",
       "      <td>196.639771</td>\n",
       "    </tr>\n",
       "    <tr>\n",
       "      <th>9</th>\n",
       "      <td>Goa</td>\n",
       "      <td>61.212766</td>\n",
       "    </tr>\n",
       "    <tr>\n",
       "      <th>10</th>\n",
       "      <td>Gujarat</td>\n",
       "      <td>98.244510</td>\n",
       "    </tr>\n",
       "    <tr>\n",
       "      <th>11</th>\n",
       "      <td>Haryana</td>\n",
       "      <td>149.860537</td>\n",
       "    </tr>\n",
       "    <tr>\n",
       "      <th>12</th>\n",
       "      <td>Himachal Pradesh</td>\n",
       "      <td>91.870202</td>\n",
       "    </tr>\n",
       "    <tr>\n",
       "      <th>13</th>\n",
       "      <td>Jammu &amp; Kashmir</td>\n",
       "      <td>117.449483</td>\n",
       "    </tr>\n",
       "    <tr>\n",
       "      <th>14</th>\n",
       "      <td>Jharkhand</td>\n",
       "      <td>168.517763</td>\n",
       "    </tr>\n",
       "    <tr>\n",
       "      <th>15</th>\n",
       "      <td>Karnataka</td>\n",
       "      <td>79.371801</td>\n",
       "    </tr>\n",
       "    <tr>\n",
       "      <th>16</th>\n",
       "      <td>Kerala</td>\n",
       "      <td>50.636064</td>\n",
       "    </tr>\n",
       "    <tr>\n",
       "      <th>17</th>\n",
       "      <td>Madhya Pradesh</td>\n",
       "      <td>114.717967</td>\n",
       "    </tr>\n",
       "    <tr>\n",
       "      <th>18</th>\n",
       "      <td>Maharashtra</td>\n",
       "      <td>101.479608</td>\n",
       "    </tr>\n",
       "    <tr>\n",
       "      <th>19</th>\n",
       "      <td>Manipur</td>\n",
       "      <td>69.815789</td>\n",
       "    </tr>\n",
       "    <tr>\n",
       "      <th>20</th>\n",
       "      <td>Meghalaya</td>\n",
       "      <td>68.988442</td>\n",
       "    </tr>\n",
       "    <tr>\n",
       "      <th>21</th>\n",
       "      <td>Mizoram</td>\n",
       "      <td>42.716466</td>\n",
       "    </tr>\n",
       "    <tr>\n",
       "      <th>22</th>\n",
       "      <td>Nagaland</td>\n",
       "      <td>83.357027</td>\n",
       "    </tr>\n",
       "    <tr>\n",
       "      <th>23</th>\n",
       "      <td>Odisha</td>\n",
       "      <td>83.619824</td>\n",
       "    </tr>\n",
       "    <tr>\n",
       "      <th>24</th>\n",
       "      <td>Puducherry</td>\n",
       "      <td>43.418217</td>\n",
       "    </tr>\n",
       "    <tr>\n",
       "      <th>25</th>\n",
       "      <td>Punjab</td>\n",
       "      <td>173.493711</td>\n",
       "    </tr>\n",
       "    <tr>\n",
       "      <th>26</th>\n",
       "      <td>Rajasthan</td>\n",
       "      <td>142.016832</td>\n",
       "    </tr>\n",
       "    <tr>\n",
       "      <th>27</th>\n",
       "      <td>Sikkim</td>\n",
       "      <td>32.000000</td>\n",
       "    </tr>\n",
       "    <tr>\n",
       "      <th>28</th>\n",
       "      <td>Tamil Nadu</td>\n",
       "      <td>66.585638</td>\n",
       "    </tr>\n",
       "    <tr>\n",
       "      <th>29</th>\n",
       "      <td>Telangana</td>\n",
       "      <td>85.043008</td>\n",
       "    </tr>\n",
       "    <tr>\n",
       "      <th>30</th>\n",
       "      <td>Uttar Pradesh</td>\n",
       "      <td>176.952308</td>\n",
       "    </tr>\n",
       "    <tr>\n",
       "      <th>31</th>\n",
       "      <td>Uttarakhand</td>\n",
       "      <td>148.978906</td>\n",
       "    </tr>\n",
       "    <tr>\n",
       "      <th>32</th>\n",
       "      <td>Uttaranchal</td>\n",
       "      <td>121.694340</td>\n",
       "    </tr>\n",
       "    <tr>\n",
       "      <th>33</th>\n",
       "      <td>West Bengal</td>\n",
       "      <td>115.039909</td>\n",
       "    </tr>\n",
       "    <tr>\n",
       "      <th>34</th>\n",
       "      <td>andaman-and-nicobar-islands</td>\n",
       "      <td>NaN</td>\n",
       "    </tr>\n",
       "    <tr>\n",
       "      <th>35</th>\n",
       "      <td>Lakshadweep</td>\n",
       "      <td>NaN</td>\n",
       "    </tr>\n",
       "    <tr>\n",
       "      <th>36</th>\n",
       "      <td>Tripura</td>\n",
       "      <td>NaN</td>\n",
       "    </tr>\n",
       "  </tbody>\n",
       "</table>\n",
       "</div>"
      ],
      "text/plain": [
       "                          State   Mean RSPM\n",
       "0                Andhra Pradesh   78.182824\n",
       "1             Arunachal Pradesh   76.629213\n",
       "2                         Assam   93.724912\n",
       "3                         Bihar  123.705176\n",
       "4                    Chandigarh   96.587079\n",
       "5                  Chhattisgarh  126.472399\n",
       "6          Dadra & Nagar Haveli   76.536530\n",
       "7                   Daman & Diu   73.749431\n",
       "8                         Delhi  196.639771\n",
       "9                           Goa   61.212766\n",
       "10                      Gujarat   98.244510\n",
       "11                      Haryana  149.860537\n",
       "12             Himachal Pradesh   91.870202\n",
       "13              Jammu & Kashmir  117.449483\n",
       "14                    Jharkhand  168.517763\n",
       "15                    Karnataka   79.371801\n",
       "16                       Kerala   50.636064\n",
       "17               Madhya Pradesh  114.717967\n",
       "18                  Maharashtra  101.479608\n",
       "19                      Manipur   69.815789\n",
       "20                    Meghalaya   68.988442\n",
       "21                      Mizoram   42.716466\n",
       "22                     Nagaland   83.357027\n",
       "23                       Odisha   83.619824\n",
       "24                   Puducherry   43.418217\n",
       "25                       Punjab  173.493711\n",
       "26                    Rajasthan  142.016832\n",
       "27                       Sikkim   32.000000\n",
       "28                   Tamil Nadu   66.585638\n",
       "29                    Telangana   85.043008\n",
       "30                Uttar Pradesh  176.952308\n",
       "31                  Uttarakhand  148.978906\n",
       "32                  Uttaranchal  121.694340\n",
       "33                  West Bengal  115.039909\n",
       "34  andaman-and-nicobar-islands         NaN\n",
       "35                  Lakshadweep         NaN\n",
       "36                      Tripura         NaN"
      ]
     },
     "metadata": {},
     "output_type": "display_data"
    }
   ],
   "source": [
    "stateVsRspm = pd.DataFrame({'State' : pd.Series(dtype = 'str'), 'Mean RSPM' : pd.Series(dtype = 'float')})\n",
    "for i in df.state.unique():\n",
    "        rspm = df.loc[df['state']== i , 'rspm'].mean()        \n",
    "        stateVsRspm.loc[len(stateVsRspm)] = [i, rspm] \n",
    "display(stateVsRspm)"
   ]
  },
  {
   "cell_type": "code",
   "execution_count": 12,
   "id": "c9dc4947",
   "metadata": {},
   "outputs": [],
   "source": [
    "writer4 = pd.ExcelWriter('stateVsRspm.xlsx') #create excel writer object. stateVsRspm is the name of the excel sheet I'm giving\n",
    "stateVsRspm.to_excel(writer4) #write dataframe to excel, the stateVsRspm used here is the name of the table in python\n",
    "writer4.save()"
   ]
  },
  {
   "cell_type": "code",
   "execution_count": 56,
   "id": "9075a473",
   "metadata": {},
   "outputs": [
    {
     "name": "stdout",
     "output_type": "stream",
     "text": [
      "Defaulting to user installation because normal site-packages is not writeableNote: you may need to restart the kernel to use updated packages.\n",
      "\n",
      "Requirement already satisfied: openpyxl in c:\\programdata\\anaconda3\\lib\\site-packages (3.0.10)\n",
      "Requirement already satisfied: et_xmlfile in c:\\programdata\\anaconda3\\lib\\site-packages (from openpyxl) (1.1.0)\n"
     ]
    }
   ],
   "source": [
    "pip install openpyxl"
   ]
  },
  {
   "cell_type": "code",
   "execution_count": 13,
   "id": "988baad7",
   "metadata": {},
   "outputs": [
    {
     "name": "stdout",
     "output_type": "stream",
     "text": [
      "                          State   Mean SO2   Mean NO2    Mean SPM   Mean RSPM\n",
      "0                Andhra Pradesh   7.284845  21.704451  200.260378   78.182824\n",
      "1             Arunachal Pradesh   3.179104   5.469697         NaN   76.629213\n",
      "2                         Assam   6.723263  14.793691  153.355386   93.724912\n",
      "3                         Bihar  19.381476  36.575525  276.917416  123.705176\n",
      "4                    Chandigarh   2.676986  18.619404  206.056150   96.587079\n",
      "5                  Chhattisgarh  12.846609  24.815961  231.290969  126.472399\n",
      "6          Dadra & Nagar Haveli   8.939587  18.293959  170.545024   76.536530\n",
      "7                   Daman & Diu   8.192958  16.168926  145.681416   73.749431\n",
      "8                         Delhi   8.737273  53.489147  399.402088  196.639771\n",
      "9                           Goa   6.827913  12.506337   67.254193   61.212766\n",
      "10                      Gujarat  16.656343  24.065631  191.567930   98.244510\n",
      "11                      Haryana  14.064957  23.428311  268.264804  149.860537\n",
      "12             Himachal Pradesh   2.667013  13.658688  208.575630   91.870202\n",
      "13              Jammu & Kashmir   7.180521  12.213181  196.221053  117.449483\n",
      "14                    Jharkhand  23.485794  43.366341  277.940746  168.517763\n",
      "15                    Karnataka  10.223099  22.702837  168.001743   79.371801\n",
      "16                       Kerala   5.322350  14.421889   84.419791   50.636064\n",
      "17               Madhya Pradesh  11.587410  18.639596  210.067545  114.717967\n",
      "18                  Maharashtra  17.366863  32.115370  205.255823  101.479608\n",
      "19                      Manipur   3.900000  20.173684  158.657895   69.815789\n",
      "20                    Meghalaya   8.955908  10.659706   78.002445   68.988442\n",
      "21                      Mizoram   2.085009   6.682171   87.833333   42.716466\n",
      "22                     Nagaland   2.059736   8.947265  133.311449   83.357027\n",
      "23                       Odisha   5.275874  16.899568  167.609844   83.619824\n",
      "24                   Puducherry  11.970639  15.279496   95.598188   43.418217\n",
      "25                       Punjab  10.628598  28.085846  244.918926  173.493711\n",
      "26                    Rajasthan   7.665725  30.441008  300.735397  142.016832\n",
      "27                       Sikkim  19.800000  26.800000   75.000000   32.000000\n",
      "28                   Tamil Nadu  11.315134  21.601202  126.729064   66.585638\n",
      "29                    Telangana   5.418609  23.864005         NaN   85.043008\n",
      "30                Uttar Pradesh  12.528500  27.610095  372.663688  176.952308\n",
      "31                  Uttarakhand  24.372957  26.938090  306.758923  148.978906\n",
      "32                  Uttaranchal  24.697736  27.163019  283.335714  121.694340\n",
      "33                  West Bengal  12.608766  59.075731  233.506524  115.039909\n",
      "34  andaman-and-nicobar-islands        NaN        NaN         NaN         NaN\n",
      "35                  Lakshadweep        NaN        NaN         NaN         NaN\n",
      "36                      Tripura        NaN        NaN         NaN         NaN\n"
     ]
    }
   ],
   "source": [
    "Master_table = stateVsSo2.merge(stateVsNo2,on='State').merge(stateVsSpm,on='State').merge(stateVsRspm, on='State')\n",
    "print(Master_table)"
   ]
  },
  {
   "cell_type": "code",
   "execution_count": 21,
   "id": "e7808f5d",
   "metadata": {},
   "outputs": [],
   "source": [
    "writer5 = pd.ExcelWriter('Master_table.xlsx') #create excel writer object. Master_table is the name of the excel sheet I'm giving\n",
    "Master_table.to_excel(writer5) #write dataframe to excel, the Master_table used here is the name of the table in python\n",
    "writer5.save()"
   ]
  },
  {
   "cell_type": "code",
   "execution_count": 18,
   "id": "7bd27203",
   "metadata": {},
   "outputs": [
    {
     "ename": "ValueError",
     "evalue": "cannot insert Country, already exists",
     "output_type": "error",
     "traceback": [
      "\u001b[1;31m---------------------------------------------------------------------------\u001b[0m",
      "\u001b[1;31mValueError\u001b[0m                                Traceback (most recent call last)",
      "\u001b[1;32m~\\AppData\\Local\\Temp\\ipykernel_22644\\836538444.py\u001b[0m in \u001b[0;36m<module>\u001b[1;34m\u001b[0m\n\u001b[1;32m----> 1\u001b[1;33m \u001b[0mMaster_table1\u001b[0m \u001b[1;33m=\u001b[0m \u001b[0mMaster_table\u001b[0m\u001b[1;33m.\u001b[0m\u001b[0minsert\u001b[0m\u001b[1;33m(\u001b[0m\u001b[1;36m0\u001b[0m\u001b[1;33m,\u001b[0m \u001b[1;34m\"Country\"\u001b[0m\u001b[1;33m,\u001b[0m \u001b[1;34m\"India\"\u001b[0m\u001b[1;33m)\u001b[0m\u001b[1;33m\u001b[0m\u001b[1;33m\u001b[0m\u001b[0m\n\u001b[0m\u001b[0;32m      2\u001b[0m \u001b[0mprint\u001b[0m\u001b[1;33m(\u001b[0m\u001b[0mMaster_table1\u001b[0m\u001b[1;33m)\u001b[0m\u001b[1;33m\u001b[0m\u001b[1;33m\u001b[0m\u001b[0m\n",
      "\u001b[1;32mC:\\ProgramData\\Anaconda3\\lib\\site-packages\\pandas\\core\\frame.py\u001b[0m in \u001b[0;36minsert\u001b[1;34m(self, loc, column, value, allow_duplicates)\u001b[0m\n\u001b[0;32m   4441\u001b[0m         \u001b[1;32mif\u001b[0m \u001b[1;32mnot\u001b[0m \u001b[0mallow_duplicates\u001b[0m \u001b[1;32mand\u001b[0m \u001b[0mcolumn\u001b[0m \u001b[1;32min\u001b[0m \u001b[0mself\u001b[0m\u001b[1;33m.\u001b[0m\u001b[0mcolumns\u001b[0m\u001b[1;33m:\u001b[0m\u001b[1;33m\u001b[0m\u001b[1;33m\u001b[0m\u001b[0m\n\u001b[0;32m   4442\u001b[0m             \u001b[1;31m# Should this be a different kind of error??\u001b[0m\u001b[1;33m\u001b[0m\u001b[1;33m\u001b[0m\u001b[0m\n\u001b[1;32m-> 4443\u001b[1;33m             \u001b[1;32mraise\u001b[0m \u001b[0mValueError\u001b[0m\u001b[1;33m(\u001b[0m\u001b[1;34mf\"cannot insert {column}, already exists\"\u001b[0m\u001b[1;33m)\u001b[0m\u001b[1;33m\u001b[0m\u001b[1;33m\u001b[0m\u001b[0m\n\u001b[0m\u001b[0;32m   4444\u001b[0m         \u001b[1;32mif\u001b[0m \u001b[1;32mnot\u001b[0m \u001b[0misinstance\u001b[0m\u001b[1;33m(\u001b[0m\u001b[0mloc\u001b[0m\u001b[1;33m,\u001b[0m \u001b[0mint\u001b[0m\u001b[1;33m)\u001b[0m\u001b[1;33m:\u001b[0m\u001b[1;33m\u001b[0m\u001b[1;33m\u001b[0m\u001b[0m\n\u001b[0;32m   4445\u001b[0m             \u001b[1;32mraise\u001b[0m \u001b[0mTypeError\u001b[0m\u001b[1;33m(\u001b[0m\u001b[1;34m\"loc must be int\"\u001b[0m\u001b[1;33m)\u001b[0m\u001b[1;33m\u001b[0m\u001b[1;33m\u001b[0m\u001b[0m\n",
      "\u001b[1;31mValueError\u001b[0m: cannot insert Country, already exists"
     ]
    }
   ],
   "source": [
    "Master_table.insert(0, \"Country\", \"India\")\n",
    "print(Master_table) #this mutates the original dataframe and inserts the column"
   ]
  },
  {
   "cell_type": "code",
   "execution_count": 20,
   "id": "948d25cf",
   "metadata": {},
   "outputs": [
    {
     "name": "stdout",
     "output_type": "stream",
     "text": [
      "   Country                        State   Mean SO2   Mean NO2    Mean SPM  \\\n",
      "0    India               Andhra Pradesh   7.284845  21.704451  200.260378   \n",
      "1    India            Arunachal Pradesh   3.179104   5.469697         NaN   \n",
      "2    India                        Assam   6.723263  14.793691  153.355386   \n",
      "3    India                        Bihar  19.381476  36.575525  276.917416   \n",
      "4    India                   Chandigarh   2.676986  18.619404  206.056150   \n",
      "5    India                 Chhattisgarh  12.846609  24.815961  231.290969   \n",
      "6    India         Dadra & Nagar Haveli   8.939587  18.293959  170.545024   \n",
      "7    India                  Daman & Diu   8.192958  16.168926  145.681416   \n",
      "8    India                        Delhi   8.737273  53.489147  399.402088   \n",
      "9    India                          Goa   6.827913  12.506337   67.254193   \n",
      "10   India                      Gujarat  16.656343  24.065631  191.567930   \n",
      "11   India                      Haryana  14.064957  23.428311  268.264804   \n",
      "12   India             Himachal Pradesh   2.667013  13.658688  208.575630   \n",
      "13   India              Jammu & Kashmir   7.180521  12.213181  196.221053   \n",
      "14   India                    Jharkhand  23.485794  43.366341  277.940746   \n",
      "15   India                    Karnataka  10.223099  22.702837  168.001743   \n",
      "16   India                       Kerala   5.322350  14.421889   84.419791   \n",
      "17   India               Madhya Pradesh  11.587410  18.639596  210.067545   \n",
      "18   India                  Maharashtra  17.366863  32.115370  205.255823   \n",
      "19   India                      Manipur   3.900000  20.173684  158.657895   \n",
      "20   India                    Meghalaya   8.955908  10.659706   78.002445   \n",
      "21   India                      Mizoram   2.085009   6.682171   87.833333   \n",
      "22   India                     Nagaland   2.059736   8.947265  133.311449   \n",
      "23   India                       Odisha   5.275874  16.899568  167.609844   \n",
      "24   India                   Puducherry  11.970639  15.279496   95.598188   \n",
      "25   India                       Punjab  10.628598  28.085846  244.918926   \n",
      "26   India                    Rajasthan   7.665725  30.441008  300.735397   \n",
      "27   India                       Sikkim  19.800000  26.800000   75.000000   \n",
      "28   India                   Tamil Nadu  11.315134  21.601202  126.729064   \n",
      "29   India                    Telangana   5.418609  23.864005         NaN   \n",
      "30   India                Uttar Pradesh  12.528500  27.610095  372.663688   \n",
      "31   India                  Uttarakhand  24.372957  26.938090  306.758923   \n",
      "32   India                  Uttaranchal  24.697736  27.163019  283.335714   \n",
      "33   India                  West Bengal  12.608766  59.075731  233.506524   \n",
      "34   India  andaman-and-nicobar-islands        NaN        NaN         NaN   \n",
      "35   India                  Lakshadweep        NaN        NaN         NaN   \n",
      "36   India                      Tripura        NaN        NaN         NaN   \n",
      "\n",
      "     Mean RSPM  \n",
      "0    78.182824  \n",
      "1    76.629213  \n",
      "2    93.724912  \n",
      "3   123.705176  \n",
      "4    96.587079  \n",
      "5   126.472399  \n",
      "6    76.536530  \n",
      "7    73.749431  \n",
      "8   196.639771  \n",
      "9    61.212766  \n",
      "10   98.244510  \n",
      "11  149.860537  \n",
      "12   91.870202  \n",
      "13  117.449483  \n",
      "14  168.517763  \n",
      "15   79.371801  \n",
      "16   50.636064  \n",
      "17  114.717967  \n",
      "18  101.479608  \n",
      "19   69.815789  \n",
      "20   68.988442  \n",
      "21   42.716466  \n",
      "22   83.357027  \n",
      "23   83.619824  \n",
      "24   43.418217  \n",
      "25  173.493711  \n",
      "26  142.016832  \n",
      "27   32.000000  \n",
      "28   66.585638  \n",
      "29   85.043008  \n",
      "30  176.952308  \n",
      "31  148.978906  \n",
      "32  121.694340  \n",
      "33  115.039909  \n",
      "34         NaN  \n",
      "35         NaN  \n",
      "36         NaN  \n"
     ]
    }
   ],
   "source": [
    "print(Master_table)"
   ]
  },
  {
   "cell_type": "code",
   "execution_count": null,
   "id": "aa0f1dfc",
   "metadata": {},
   "outputs": [],
   "source": []
  }
 ],
 "metadata": {
  "kernelspec": {
   "display_name": "Python 3 (ipykernel)",
   "language": "python",
   "name": "python3"
  },
  "language_info": {
   "codemirror_mode": {
    "name": "ipython",
    "version": 3
   },
   "file_extension": ".py",
   "mimetype": "text/x-python",
   "name": "python",
   "nbconvert_exporter": "python",
   "pygments_lexer": "ipython3",
   "version": "3.9.13"
  }
 },
 "nbformat": 4,
 "nbformat_minor": 5
}
